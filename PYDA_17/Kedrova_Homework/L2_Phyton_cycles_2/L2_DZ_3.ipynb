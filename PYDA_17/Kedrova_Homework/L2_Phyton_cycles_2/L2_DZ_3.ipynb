{
 "cells": [
  {
   "cell_type": "code",
   "execution_count": 65,
   "metadata": {},
   "outputs": [
    {
     "name": "stdout",
     "output_type": "stream",
     "text": [
      "Best match: \n",
      "Alex and Anna\n",
      "Dilan and Fiona\n",
      "Fred and Jane\n",
      "Noah and Mary\n"
     ]
    }
   ],
   "source": [
    "boys = ['Fred', 'Noah', 'Dilan', \"Alex\"]\n",
    "girls = ['Mary', 'Anna', 'Fiona','Jane']\n",
    "\n",
    "boys_s = sorted(boys)\n",
    "girls_s = sorted(girls)\n",
    "\n",
    "match = list(zip(boys_s, girls_s))\n",
    "\n",
    "if len(boys_s) == len(girls_s):\n",
    "    print(\"Best match: \")\n",
    "    for x, y in match:\n",
    "        print(x, \"and\", y)\n",
    "else:\n",
    "    print (\"Внимание, кто-то может остаться без пары!\")\n",
    "\n",
    " "
   ]
  },
  {
   "cell_type": "code",
   "execution_count": null,
   "metadata": {},
   "outputs": [],
   "source": []
  }
 ],
 "metadata": {
  "kernelspec": {
   "display_name": "Python 3",
   "language": "python",
   "name": "python3"
  },
  "language_info": {
   "codemirror_mode": {
    "name": "ipython",
    "version": 3
   },
   "file_extension": ".py",
   "mimetype": "text/x-python",
   "name": "python",
   "nbconvert_exporter": "python",
   "pygments_lexer": "ipython3",
   "version": "3.8.5"
  }
 },
 "nbformat": 4,
 "nbformat_minor": 4
}
