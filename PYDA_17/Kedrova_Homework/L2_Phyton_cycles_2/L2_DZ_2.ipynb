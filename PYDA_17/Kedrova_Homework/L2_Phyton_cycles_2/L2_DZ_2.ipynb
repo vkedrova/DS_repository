{
 "cells": [
  {
   "cell_type": "code",
   "execution_count": 1,
   "metadata": {},
   "outputs": [
    {
     "name": "stdout",
     "output_type": "stream",
     "text": [
      "Put number 5\n",
      "Put number 7\n",
      "Put number 0\n",
      "12\n"
     ]
    }
   ],
   "source": [
    "count = 0\n",
    "while True:\n",
    "    user_number = int(input(\"Put number \"))\n",
    "    count += user_number\n",
    "    if user_number == 0:\n",
    "        print(count)\n",
    "        break\n",
    "      \n",
    "        "
   ]
  }
 ],
 "metadata": {
  "kernelspec": {
   "display_name": "Python 3",
   "language": "python",
   "name": "python3"
  },
  "language_info": {
   "codemirror_mode": {
    "name": "ipython",
    "version": 3
   },
   "file_extension": ".py",
   "mimetype": "text/x-python",
   "name": "python",
   "nbconvert_exporter": "python",
   "pygments_lexer": "ipython3",
   "version": "3.8.5"
  }
 },
 "nbformat": 4,
 "nbformat_minor": 4
}
