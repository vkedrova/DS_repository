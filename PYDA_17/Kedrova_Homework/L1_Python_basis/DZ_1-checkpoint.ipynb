{
 "cells": [
  {
   "cell_type": "code",
   "execution_count": 2,
   "metadata": {},
   "outputs": [
    {
     "name": "stdout",
     "output_type": "stream",
     "text": [
      "Введите фразу 1 Раз два три\n",
      "Введите фразу 2 Раз два три четыре\n",
      "Фраза 2 длинее фразы 1\n"
     ]
    }
   ],
   "source": [
    "phrase_1 = input(\"Введите фразу 1 \")\n",
    "phrase_2 = input(\"Введите фразу 2 \")\n",
    "if len('phrase_1')>len('phrase_2'):\n",
    "    print (\"Фраза 1 длинее фразы 2\")\n",
    "else:\n",
    "    print (\"Фраза 2 длинее фразы 1\")"
   ]
  }
 ],
 "metadata": {
  "kernelspec": {
   "display_name": "Python 3",
   "language": "python",
   "name": "python3"
  },
  "language_info": {
   "codemirror_mode": {
    "name": "ipython",
    "version": 3
   },
   "file_extension": ".py",
   "mimetype": "text/x-python",
   "name": "python",
   "nbconvert_exporter": "python",
   "pygments_lexer": "ipython3",
   "version": "3.8.5"
  }
 },
 "nbformat": 4,
 "nbformat_minor": 4
}
