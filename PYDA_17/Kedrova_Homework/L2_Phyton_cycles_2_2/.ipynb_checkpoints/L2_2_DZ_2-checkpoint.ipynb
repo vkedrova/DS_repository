{
 "cells": [
  {
   "cell_type": "code",
   "execution_count": 197,
   "metadata": {},
   "outputs": [
    {
     "name": "stdout",
     "output_type": "stream",
     "text": [
      "Поисковых запросов, содержащих 3 слов(а) 57.14%\n",
      "Поисковых запросов, содержащих 2 слов(а) 42.86%\n"
     ]
    }
   ],
   "source": [
    "queries = [\n",
    "'смотреть сериалы онлайн',\n",
    "'новости спорта',\n",
    "'афиша кино',\n",
    "'курс доллара',\n",
    "'сериалы этим летом',\n",
    "'курс по питону',\n",
    "'сериалы про спорт',\n",
    "]\n",
    "\n",
    "counter = {}\n",
    "\n",
    "for i in queries:\n",
    "    words = i.split()\n",
    "\n",
    "    if len(words) in counter.keys():\n",
    "        counter[len(words)] += 1\n",
    "    else:\n",
    "        counter.update({len(words): 1})\n",
    "\n",
    "for keys, values in counter.items():\n",
    "    share = values / (len(queries)) * 100\n",
    "    print(\"Поисковых запросов, содержащих\", keys, \"слов(а)\", \"%.2f%%\" % share) \n",
    "     "
   ]
  }
 ],
 "metadata": {
  "kernelspec": {
   "display_name": "Python 3",
   "language": "python",
   "name": "python3"
  },
  "language_info": {
   "codemirror_mode": {
    "name": "ipython",
    "version": 3
   },
   "file_extension": ".py",
   "mimetype": "text/x-python",
   "name": "python",
   "nbconvert_exporter": "python",
   "pygments_lexer": "ipython3",
   "version": "3.8.5"
  }
 },
 "nbformat": 4,
 "nbformat_minor": 4
}
