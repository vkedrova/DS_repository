{
 "cells": [
  {
   "cell_type": "code",
   "execution_count": 111,
   "metadata": {},
   "outputs": [
    {
     "name": "stdout",
     "output_type": "stream",
     "text": [
      "{'adwords': {'ROI': '1.03', 'cost': 34, 'revenue': 35},\n",
      " 'facebook': {'ROI': '0.94', 'cost': 110, 'revenue': 103},\n",
      " 'twitter': {'ROI': '0.46', 'cost': 24, 'revenue': 11},\n",
      " 'vk': {'ROI': '1.05', 'cost': 98, 'revenue': 103},\n",
      " 'yandex': {'ROI': '1.17', 'cost': 153, 'revenue': 179}}\n"
     ]
    }
   ],
   "source": [
    "results = {\n",
    "'vk': {'revenue': 103, 'cost': 98},\n",
    "'yandex': {'revenue': 179, 'cost': 153},\n",
    "'facebook': {'revenue': 103, 'cost': 110},\n",
    "'adwords': {'revenue': 35, 'cost': 34},\n",
    "'twitter': {'revenue': 11, 'cost': 24},\n",
    "}\n",
    "\n",
    "for source, metrics in results.items():\n",
    "    ROI = (metrics['revenue'] / metrics['cost'])\n",
    "    metrics['ROI'] = \"%.2f\" % ROI\n",
    "\n",
    "\n",
    "\n",
    "pprint(results)\n",
    "   \n",
    "   \n",
    "\n",
    "\n",
    "\n"
   ]
  },
  {
   "cell_type": "code",
   "execution_count": 108,
   "metadata": {},
   "outputs": [],
   "source": [
    "from pprint import pprint"
   ]
  }
 ],
 "metadata": {
  "kernelspec": {
   "display_name": "Python 3",
   "language": "python",
   "name": "python3"
  },
  "language_info": {
   "codemirror_mode": {
    "name": "ipython",
    "version": 3
   },
   "file_extension": ".py",
   "mimetype": "text/x-python",
   "name": "python",
   "nbconvert_exporter": "python",
   "pygments_lexer": "ipython3",
   "version": "3.8.5"
  }
 },
 "nbformat": 4,
 "nbformat_minor": 4
}
