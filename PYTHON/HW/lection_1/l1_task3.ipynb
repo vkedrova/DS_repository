{
 "cells": [
  {
   "cell_type": "code",
   "execution_count": 9,
   "metadata": {},
   "outputs": [
    {
     "name": "stdout",
     "output_type": "stream",
     "text": [
      "Введите дату рождения 26\n",
      "Введите месяц рождения апреля\n",
      "Телец\n"
     ]
    }
   ],
   "source": [
    "date = int(input(\"Введите дату рождения \"))\n",
    "month = input(\"Введите месяц рождения \")\n",
    "if  ((date >= 21 or date <= 31) and (month == \"март\" or month == \"марта\")) or ((date >= 1 and date <= 20) and (month == \"апрель\" or month == \"апреля\")):\n",
    "    print ('Овен')\n",
    "elif ((date >= 21 and date <= 30) and (month == \"апрель\" or month == \"апреля\")) or ((date >= 1 and date <= 20) and (month == \"май\" or month == \"мая\")):\n",
    "    print ('Телец')\n",
    "elif ((date >= 21 and date <= 31) and (month == \"май\" or month == \"мая\")) or ((date >= 1 and date <= 21) and (month == \"июнь\" or month == \"июня\")):\n",
    "    print ('Близнецы')\n",
    "elif ((date >= 22 and date <= 30) and (month == \"июнь\" or month == \"июня\")) or ((date >= 1 and date <= 22) and (month == \"июль\" or month == \"июля\")):\n",
    "    print ('Рак')\n",
    "elif ((date >= 23 and date <= 31) and (month == \"июль\" or month == \"июля\")) or ((date >= 1 and date <= 23) and (month == \"август\" or month == \"августа\")):\n",
    "    print ('Лев') \n",
    "elif ((date >= 24 and date <= 30) and (month == \"август\" or month == \"августа\")) or ((date >= 1 and date <= 23) and (month == \"сентябрь\" or month == \"сентября\")):     \n",
    "    print ('Дева')  \n",
    "elif ((date >= 24 and date <= 30) and (month == \"сентябрь\" or month == \"сентября\")) or ((date >= 1 and date <= 23) and (month == \"октябрь\" or month == \"октября\")):\n",
    "    print ('Весы')\n",
    "elif ((date >= 24 and date <= 30) and (month == \"октябрь\" or month == \"октября\")) or ((date >= 1 and date <= 22) and (month == \"ноябрь\" or month == \"ноября\")):\n",
    "       print ('Скорпион')\n",
    "elif ((date >= 23 and date <= 30) and (month == \"ноябрь\" or month == \"ноября\")) or ((date >= 1 and date <= 21) and (month == \"декабрь\" or month == \"декабря\")):\n",
    "    print ('Стрелец')\n",
    "elif ((date >= 22 and date <= 31) and (month == \"декабрь\" or month == \"декабря\")) or ((date >= 1 and date <= 20) and (month == \"январь\" or month == \"января\")):\n",
    "    print ('Козерог')\n",
    "elif ((date >= 21 and date <= 31) and (month == \"январь\" or month == \"января\")) or ((date >= 1 and date <= 20) and (month == \"февраль\" or month == \"февраля\")):\n",
    "    print ('Водолей')\n",
    "elif ((date >= 21 and date <= 29) and (month == \"февраль\" or month == \"февраля\")) or ((date >= 1 and date <= 20) and (month == \"март\" or month == \"марта\")):\n",
    "    print ('Рыбы')\n",
    "else:\n",
    "    print ('Змееносец)')"
   ]
  }
 ],
 "metadata": {
  "kernelspec": {
   "display_name": "Python 3",
   "language": "python",
   "name": "python3"
  },
  "language_info": {
   "codemirror_mode": {
    "name": "ipython",
    "version": 3
   },
   "file_extension": ".py",
   "mimetype": "text/x-python",
   "name": "python",
   "nbconvert_exporter": "python",
   "pygments_lexer": "ipython3",
   "version": "3.8.5"
  }
 },
 "nbformat": 4,
 "nbformat_minor": 4
}
