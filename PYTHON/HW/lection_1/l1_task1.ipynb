{
 "cells": [
  {
   "cell_type": "code",
   "execution_count": 1,
   "metadata": {},
   "outputs": [
    {
     "name": "stdout",
     "output_type": "stream",
     "text": [
      "введите первую фразу Hello world!\n",
      "введите вторую фразу Bye bye world!\n",
      "фраза 2 длиннее фразы 1\n"
     ]
    }
   ],
   "source": [
    "a = (input('введите первую фразу '))\n",
    "b = (input('введите вторую фразу '))\n",
    "if len(a) > len(b):\n",
    "    print('фраза 1 длинее фразы 2')\n",
    "elif len(a) == len(b):\n",
    "    print ('фразы равны по длине')\n",
    "else:\n",
    "    print ('фраза 2 длиннее фразы 1')\n"
   ]
  }
 ],
 "metadata": {
  "kernelspec": {
   "display_name": "Python 3",
   "language": "python",
   "name": "python3"
  },
  "language_info": {
   "codemirror_mode": {
    "name": "ipython",
    "version": 3
   },
   "file_extension": ".py",
   "mimetype": "text/x-python",
   "name": "python",
   "nbconvert_exporter": "python",
   "pygments_lexer": "ipython3",
   "version": "3.8.5"
  }
 },
 "nbformat": 4,
 "nbformat_minor": 4
}
