{
 "cells": [
  {
   "cell_type": "code",
   "execution_count": 3,
   "metadata": {},
   "outputs": [
    {
     "name": "stdout",
     "output_type": "stream",
     "text": [
      "type width 400\n",
      "type length 10\n",
      "type height 2\n",
      "Standart box 3\n"
     ]
    }
   ],
   "source": [
    "width = int(input('type width '))\n",
    "length = int(input('type length '))\n",
    "height = int(input('type height '))\n",
    "\n",
    "if width < 15 and length < 15 and height < 15:\n",
    "    print('Box 1')\n",
    "elif  15 < width < 50 or 15 < length < 50 or 15 < height < 50:\n",
    "    print('Box 2')\n",
    "elif length > 200:\n",
    "    print('Sky box')\n",
    "else:\n",
    "    print ('Standart box 3')"
   ]
  }
 ],
 "metadata": {
  "kernelspec": {
   "display_name": "Python 3",
   "language": "python",
   "name": "python3"
  },
  "language_info": {
   "codemirror_mode": {
    "name": "ipython",
    "version": 3
   },
   "file_extension": ".py",
   "mimetype": "text/x-python",
   "name": "python",
   "nbconvert_exporter": "python",
   "pygments_lexer": "ipython3",
   "version": "3.8.5"
  }
 },
 "nbformat": 4,
 "nbformat_minor": 4
}
