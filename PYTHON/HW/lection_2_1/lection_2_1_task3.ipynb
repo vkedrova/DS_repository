{
 "cells": [
  {
   "cell_type": "code",
   "execution_count": 18,
   "metadata": {},
   "outputs": [
    {
     "name": "stdout",
     "output_type": "stream",
     "text": [
      "Best match:\n",
      "Alex and Emma\n",
      "Arthur and Kate\n",
      "John and Kira\n",
      "Peter and Liza\n",
      "Richard and Trisha\n"
     ]
    }
   ],
   "source": [
    "boys = ['Peter', 'Alex', 'John', 'Arthur', 'Richard']\n",
    "girls = ['Kate', 'Liza', 'Kira', 'Emma', 'Trisha']\n",
    "\n",
    "if len(boys) == len(girls):\n",
    "    b = sorted(boys)\n",
    "    g = sorted(girls)\n",
    "    match = list(zip(b,g))\n",
    "    print('Best match:')\n",
    "    for x, y in match:\n",
    "        print(x, 'and', y)\n",
    "else:\n",
    "    print ('Not all will get a match!')\n",
    "    \n"
   ]
  }
 ],
 "metadata": {
  "kernelspec": {
   "display_name": "Python 3",
   "language": "python",
   "name": "python3"
  },
  "language_info": {
   "codemirror_mode": {
    "name": "ipython",
    "version": 3
   },
   "file_extension": ".py",
   "mimetype": "text/x-python",
   "name": "python",
   "nbconvert_exporter": "python",
   "pygments_lexer": "ipython3",
   "version": "3.8.5"
  }
 },
 "nbformat": 4,
 "nbformat_minor": 4
}
